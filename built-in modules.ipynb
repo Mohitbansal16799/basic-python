{
 "cells": [
  {
   "cell_type": "markdown",
   "id": "c3cfc1e7",
   "metadata": {},
   "source": [
    "# What are modules?\n",
    "# consider a module same as a code library.\n",
    "# A file containig set of function you want to include in your application \n",
    "# Example of python module\n",
    "# Math\n",
    "# random\n",
    "# OS \n",
    "# time"
   ]
  },
  {
   "cell_type": "code",
   "execution_count": 1,
   "id": "6f135600",
   "metadata": {},
   "outputs": [],
   "source": [
    "# to know how many module in our anaconda propmt use help function"
   ]
  },
  {
   "cell_type": "code",
   "execution_count": 2,
   "id": "83c35297",
   "metadata": {},
   "outputs": [
    {
     "name": "stdout",
     "output_type": "stream",
     "text": [
      "\n",
      "Please wait a moment while I gather a list of all available modules...\n",
      "\n"
     ]
    },
    {
     "name": "stderr",
     "output_type": "stream",
     "text": [
      "C:\\Users\\mohit\\anaconda3\\lib\\site-packages\\IPython\\kernel\\__init__.py:12: ShimWarning: The `IPython.kernel` package has been deprecated since IPython 4.0.You should import from ipykernel or jupyter_client instead.\n",
      "  warn(\"The `IPython.kernel` package has been deprecated since IPython 4.0.\"\n",
      "WARNING: AstropyDeprecationWarning: The private astropy._erfa module has been made into its own package, pyerfa, which is a dependency of astropy and can be imported directly using \"import erfa\" [astropy._erfa]\n",
      "C:\\Users\\mohit\\anaconda3\\lib\\pkgutil.py:93: MatplotlibDeprecationWarning:\n",
      "\n",
      "\n",
      "The matplotlib.compat module was deprecated in Matplotlib 3.3 and will be removed two minor releases later.\n",
      "\n",
      "C:\\Users\\mohit\\anaconda3\\lib\\site-packages\\nltk\\twitter\\__init__.py:20: UserWarning:\n",
      "\n",
      "The twython library has not been installed. Some functionality from the twitter package will not be available.\n",
      "\n"
     ]
    },
    {
     "name": "stdout",
     "output_type": "stream",
     "text": [
      "Update LANGUAGE_CODES (inside config/base.py) if a new translation has been added to Spyder\n"
     ]
    },
    {
     "name": "stderr",
     "output_type": "stream",
     "text": [
      "QSS file sucessfuly loaded.\n",
      "Found application patches to be applied.\n",
      "No QCoreApplication instance found. Application patches not applied. You have to call load_stylesheet function after instantiation of QApplication to take effect. \n",
      "C:\\Users\\mohit\\anaconda3\\lib\\pkgutil.py:108: VisibleDeprecationWarning:\n",
      "\n",
      "zmq.eventloop.minitornado is deprecated in pyzmq 14.0 and will be removed.\n",
      "    Install tornado itself to use zmq with the tornado IOLoop.\n",
      "    \n",
      "\n"
     ]
    },
    {
     "name": "stdout",
     "output_type": "stream",
     "text": [
      "Cython              collections         more_itertools      sortedcontainers\n",
      "IPython             colorama            mpmath              soupsieve\n",
      "OpenSSL             colorlover          msgpack             sphinx\n",
      "PIL                 colorsys            msilib              sphinxcontrib\n",
      "PyPDF2              commctrl            msvcrt              spyder\n",
      "PyQt5               compileall          multipledispatch    spyder_kernels\n",
      "TBB                 comtypes            multiprocessing     sqlalchemy\n",
      "__future__          concurrent          munkres             sqlite3\n",
      "_abc                conda               mypy_extensions     sre_compile\n",
      "_aix_support        conda_build         nacl                sre_constants\n",
      "_ast                conda_content_trust navigator_updater   sre_parse\n",
      "_asyncio            conda_env           nbclassic           ssl\n",
      "_bisect             conda_pack          nbclient            sspi\n",
      "_black_version      conda_package_handling nbconvert           sspicon\n",
      "_blake2             conda_token         nbformat            stat\n",
      "_bootlocale         conda_verify        nest_asyncio        statistics\n",
      "_bootsubprocess     configparser        netbios             statsmodels\n",
      "_bz2                contextlib          netrc               stdiomask\n",
      "_cffi_backend       contextlib2         networkx            storemagic\n",
      "_codecs             contextvars         nltk                string\n",
      "_codecs_cn          cookiecutter        nntplib             stringprep\n",
      "_codecs_hk          copy                nose                struct\n",
      "_codecs_iso2022     copyreg             notebook            subprocess\n",
      "_codecs_jp          crypt               nt                  sunau\n",
      "_codecs_kr          cryptography        ntpath              symbol\n",
      "_codecs_tw          csv                 ntsecuritycon       sympy\n",
      "_collections        ctypes              nturl2path          sympyprinting\n",
      "_collections_abc    cufflinks           numba               symtable\n",
      "_compat_pickle      curl                numbers             sys\n",
      "_compression        curses              numexpr             sysconfig\n",
      "_contextvars        cwp                 numpy               tables\n",
      "_csv                cycler              numpydoc            tabnanny\n",
      "_ctypes             cython              odbc                tarfile\n",
      "_ctypes_test        cythonmagic         olefile             tbb\n",
      "_daal4py            cytoolz             onedal              tblib\n",
      "_datetime           daal4py             opcode              telnetlib\n",
      "_decimal            dask                openpyxl            tempfile\n",
      "_distutils_hack     dataclasses         operator            tenacity\n",
      "_elementtree        datetime            optparse            terminado\n",
      "_functools          dateutil            os                  test\n",
      "_hashlib            dbi                 outcome             test_data\n",
      "_heapq              dbm                 packaging           test_pycosat\n",
      "_imp                dde                 pandas              testpath\n",
      "_io                 debugpy             pandocfilters       tests\n",
      "_json               decimal             paramiko            text_unidecode\n",
      "_locale             decorator           parser              textdistance\n",
      "_lsprof             defusedxml          parso               textwrap\n",
      "_lzma               diff_match_patch    partd               this\n",
      "_markupbase         difflib             past                threading\n",
      "_md5                dis                 path                threadpoolctl\n",
      "_msi                distributed         pathlib             three_merge\n",
      "_multibytecodec     distutils           pathlib2            tifffile\n",
      "_multiprocessing    dns                 pathspec            time\n",
      "_nsis               doctest             patsy               timeit\n",
      "_onedal4py_host     docutils            pdb                 timer\n",
      "_opcode             email               pdftables_api       tinycss\n",
      "_operator           encodings           pep8                tkinter\n",
      "_osx_support        ensurepip           perfmon             tlz\n",
      "_overlapped         entrypoints         pexpect             token\n",
      "_peg_parser         enum                pickle              tokenize\n",
      "_pickle             erfa                pickleshare         toml\n",
      "_plotly_future_     errno               pickletools         toolz\n",
      "_plotly_utils       et_xmlfile          pip                 tornado\n",
      "_py_abc             fastcache           pipes               tqdm\n",
      "_pydecimal          faulthandler        pkg_resources       trace\n",
      "_pyio               filecmp             pkginfo             traceback\n",
      "_pyrsistent_version fileinput           pkgutil             tracemalloc\n",
      "_pytest             filelock            platform            traitlets\n",
      "_queue              flake8              plistlib            trio\n",
      "_random             flask               plotly              trio_websocket\n",
      "_sha1               flask_cors          plotlywidget        tty\n",
      "_sha256             fnmatch             pluggy              turtle\n",
      "_sha3               folium              ply                 turtledemo\n",
      "_sha512             fontTools           poplib              typed_ast\n",
      "_signal             formatter           posixpath           types\n",
      "_sitebuiltins       fractions           poyo                typing\n",
      "_socket             fsspec              pprint              typing_extensions\n",
      "_sqlite3            ftplib              profile             ujson\n",
      "_sre                functools           prometheus_client   unicodecsv\n",
      "_ssl                future              prompt_toolkit      unicodedata\n",
      "_stat               gc                  pstats              unidecode\n",
      "_statistics         genericpath         psutil              unittest\n",
      "_string             getopt              pty                 urllib\n",
      "_strptime           getpass             ptyprocess          urllib3\n",
      "_struct             gettext             pvectorc            uu\n",
      "_symtable           gevent              py                  uuid\n",
      "_system_path        glob                py_compile          venv\n",
      "_testbuffer         glob2               pyclbr              warnings\n",
      "_testcapi           graphlib            pycodestyle         watchdog\n",
      "_testconsole        greenlet            pycosat             wave\n",
      "_testimportmultiple gridfs              pycparser           wcwidth\n",
      "_testinternalcapi   gzip                pycurl              weakref\n",
      "_testmultiphase     h11                 pydoc               webbrowser\n",
      "_thread             h5py                pydoc_data          webencodings\n",
      "_threading_local    hashlib             pydocstyle          werkzeug\n",
      "_tkinter            heapdict            pyexpat             wheel\n",
      "_tracemalloc        heapq               pyflakes            whichcraft\n",
      "_uuid               hmac                pygments            widgetsnbextension\n",
      "_warnings           html                pyinputplus         win2kras\n",
      "_weakref            html5lib            pylab               win32api\n",
      "_weakrefset         http                pylint              win32clipboard\n",
      "_win32sysloader     idlelib             pyls_spyder         win32com\n",
      "_winapi             idna                pylsp               win32con\n",
      "_winxptheme         imagecodecs         pylsp_black         win32console\n",
      "_xxsubinterpreters  imageio             pylsp_jsonrpc       win32cred\n",
      "_yaml               imagesize           pymongo             win32crypt\n",
      "_zoneinfo           imaplib             pyodbc              win32cryptcon\n",
      "abc                 imghdr              pyparsing           win32ctypes\n",
      "adodbapi            imp                 pyreadline          win32event\n",
      "afxres              importlib           pyrsistent          win32evtlog\n",
      "aifc                importlib_metadata  pysimplevalidate    win32evtlogutil\n",
      "alabaster           inflection          pytest              win32file\n",
      "anaconda_navigator  iniconfig           pythoncom           win32gui\n",
      "anaconda_project    inspect             pytz                win32gui_struct\n",
      "antigravity         intervaltree        pywin               win32help\n",
      "anyio               io                  pywin32_bootstrap   win32inet\n",
      "appdirs             ipaddress           pywin32_testutil    win32inetcon\n",
      "argh                ipykernel           pywintypes          win32job\n",
      "argon2              ipykernel_launcher  pywt                win32lz\n",
      "argparse            ipython_genutils    pyximport           win32net\n",
      "array               ipywidgets          qdarkstyle          win32netcon\n",
      "arrow               isapi               qstylizer           win32pdh\n",
      "asn1crypto          isort               qtawesome           win32pdhquery\n",
      "ast                 isympy              qtconsole           win32pdhutil\n",
      "astroid             itertools           qtpy                win32pipe\n",
      "astropy             itsdangerous        queue               win32print\n",
      "async_generator     jdcal               quopri              win32process\n",
      "asynchat            jedi                random              win32profile\n",
      "asyncio             jinja2              rasutil             win32ras\n",
      "asyncore            jinja2_time         re                  win32rcparser\n",
      "atexit              joblib              readline            win32security\n",
      "atomicwrites        json                regcheck            win32service\n",
      "attr                json5               regex               win32serviceutil\n",
      "audioop             jsonschema          regutil             win32timezone\n",
      "autopep8            jupyter             repo_cli            win32trace\n",
      "autoreload          jupyter_client      reprlib             win32traceutil\n",
      "babel               jupyter_console     requests            win32transaction\n",
      "backcall            jupyter_core        rlcompleter         win32ts\n",
      "backports           jupyter_server      rmagic              win32ui\n",
      "base64              jupyterlab          rope                win32uiole\n",
      "bcrypt              jupyterlab_plotly   rtree               win32verstamp\n",
      "bdb                 jupyterlab_pygments ruamel_yaml         win32wnet\n",
      "binaryornot         jupyterlab_server   run                 win_inet_pton\n",
      "binascii            jupyterlab_widgets  runpy               win_unicode_console\n",
      "binhex              jwt                 sched               wincertstore\n",
      "binstar_client      keyring             scipy               winerror\n",
      "bisect              keyword             scripts             winioctlcon\n",
      "bitarray            kiwisolver          seaborn             winnt\n",
      "bkcharts            lazy_object_proxy   secrets             winperf\n",
      "black               lib2to3             select              winpty\n",
      "blackd              libarchive          selectors           winreg\n",
      "bleach              libfuturize         selenium            winsound\n",
      "blib2to3            libpasteurize       send2trash          winxpgui\n",
      "bokeh               lief                servicemanager      winxptheme\n",
      "boto                linecache           setuptools          wrapt\n",
      "bottleneck          llvmlite            shelve              wsgiref\n",
      "branca              locale              shlex               wsproto\n",
      "brotli              locket              shutil              xdrlib\n",
      "bs4                 logging             signal              xlrd\n",
      "bson                lxml                simplegeneric       xlsxwriter\n",
      "builtins            lzma                singledispatch      xlwings\n",
      "bz2                 mailbox             sip                 xlwt\n",
      "cProfile            mailcap             sipconfig           xml\n",
      "cached_property     markupsafe          sipdistutils        xmlrpc\n",
      "calendar            marshal             site                xmltodict\n",
      "certifi             math                six                 xxsubtype\n",
      "cffi                matplotlib          skimage             yaml\n",
      "cgi                 matplotlib_inline   sklearn             yapf\n",
      "cgitb               mccabe              sklearnex           yapftests\n",
      "chardet             menuinst            slugify             zict\n",
      "charset_normalizer  mimetypes           smtpd               zipapp\n",
      "chunk               mistune             smtplib             zipfile\n",
      "click               mkl                 sndhdr              zipimport\n",
      "cloudpickle         mkl_fft             sniffio             zipp\n",
      "clyent              mkl_random          snowballstemmer     zlib\n",
      "cmath               mmap                socket              zmq\n",
      "cmd                 mmapfile            socketserver        zoneinfo\n",
      "code                mmsystem            socks               zope\n",
      "codecs              mock                sockshandler        \n",
      "codeop              modulefinder        sortedcollections   \n",
      "\n",
      "Enter any module name to get more help.  Or, type \"modules spam\" to search\n",
      "for modules whose name or summary contain the string \"spam\".\n",
      "\n"
     ]
    }
   ],
   "source": [
    "help(\"modules\")"
   ]
  },
  {
   "cell_type": "code",
   "execution_count": 3,
   "id": "392809fc",
   "metadata": {},
   "outputs": [],
   "source": [
    "import math"
   ]
  },
  {
   "cell_type": "code",
   "execution_count": 4,
   "id": "b94b90de",
   "metadata": {},
   "outputs": [
    {
     "data": {
      "text/plain": [
       "10.0"
      ]
     },
     "execution_count": 4,
     "metadata": {},
     "output_type": "execute_result"
    }
   ],
   "source": [
    "math.sqrt(100)"
   ]
  },
  {
   "cell_type": "code",
   "execution_count": 5,
   "id": "1247624a",
   "metadata": {},
   "outputs": [
    {
     "data": {
      "text/plain": [
       "5"
      ]
     },
     "execution_count": 5,
     "metadata": {},
     "output_type": "execute_result"
    }
   ],
   "source": [
    "math.ceil(4.5)"
   ]
  },
  {
   "cell_type": "code",
   "execution_count": 6,
   "id": "2391ef17",
   "metadata": {},
   "outputs": [
    {
     "data": {
      "text/plain": [
       "4"
      ]
     },
     "execution_count": 6,
     "metadata": {},
     "output_type": "execute_result"
    }
   ],
   "source": [
    "math.floor(4.5)"
   ]
  },
  {
   "cell_type": "code",
   "execution_count": 7,
   "id": "99c43131",
   "metadata": {},
   "outputs": [
    {
     "data": {
      "text/plain": [
       "3.141592653589793"
      ]
     },
     "execution_count": 7,
     "metadata": {},
     "output_type": "execute_result"
    }
   ],
   "source": [
    "math.pi"
   ]
  },
  {
   "cell_type": "code",
   "execution_count": 8,
   "id": "295a48ac",
   "metadata": {},
   "outputs": [
    {
     "data": {
      "text/plain": [
       "3628800"
      ]
     },
     "execution_count": 8,
     "metadata": {},
     "output_type": "execute_result"
    }
   ],
   "source": [
    "math.factorial(10)"
   ]
  },
  {
   "cell_type": "code",
   "execution_count": 9,
   "id": "c55ca40d",
   "metadata": {},
   "outputs": [],
   "source": [
    "import random"
   ]
  },
  {
   "cell_type": "code",
   "execution_count": 11,
   "id": "7c8605f4",
   "metadata": {},
   "outputs": [
    {
     "data": {
      "text/plain": [
       "42"
      ]
     },
     "execution_count": 11,
     "metadata": {},
     "output_type": "execute_result"
    }
   ],
   "source": [
    "random.randint(1,100)"
   ]
  },
  {
   "cell_type": "code",
   "execution_count": 15,
   "id": "cfeaee00",
   "metadata": {},
   "outputs": [
    {
     "data": {
      "text/plain": [
       "[3, 4, 2, 6, 5, 1]"
      ]
     },
     "execution_count": 15,
     "metadata": {},
     "output_type": "execute_result"
    }
   ],
   "source": [
    "a = [1,2,3,4,5,6]\n",
    "random.shuffle(a)\n",
    "a"
   ]
  },
  {
   "cell_type": "code",
   "execution_count": 16,
   "id": "1535c0cf",
   "metadata": {},
   "outputs": [],
   "source": [
    "import time"
   ]
  },
  {
   "cell_type": "code",
   "execution_count": 18,
   "id": "a203e35e",
   "metadata": {},
   "outputs": [
    {
     "data": {
      "text/plain": [
       "1667385163.517072"
      ]
     },
     "execution_count": 18,
     "metadata": {},
     "output_type": "execute_result"
    }
   ],
   "source": [
    "time.time()"
   ]
  },
  {
   "cell_type": "code",
   "execution_count": 19,
   "id": "7570bee9",
   "metadata": {},
   "outputs": [
    {
     "data": {
      "text/plain": [
       "'Wed Nov  2 16:03:08 2022'"
      ]
     },
     "execution_count": 19,
     "metadata": {},
     "output_type": "execute_result"
    }
   ],
   "source": [
    "time.ctime()"
   ]
  },
  {
   "cell_type": "code",
   "execution_count": 20,
   "id": "1b3e91ec",
   "metadata": {},
   "outputs": [
    {
     "name": "stdout",
     "output_type": "stream",
     "text": [
      "hello\n",
      "world\n"
     ]
    }
   ],
   "source": [
    "print(\"hello\")\n",
    "time.sleep(10)\n",
    "print(\"world\")"
   ]
  },
  {
   "cell_type": "code",
   "execution_count": 21,
   "id": "cdc686a9",
   "metadata": {},
   "outputs": [],
   "source": [
    "import os"
   ]
  },
  {
   "cell_type": "code",
   "execution_count": 22,
   "id": "d6daf0c5",
   "metadata": {},
   "outputs": [
    {
     "data": {
      "text/plain": [
       "'C:\\\\Users\\\\mohit'"
      ]
     },
     "execution_count": 22,
     "metadata": {},
     "output_type": "execute_result"
    }
   ],
   "source": [
    "os.getcwd()"
   ]
  },
  {
   "cell_type": "code",
   "execution_count": 23,
   "id": "d1506ee9",
   "metadata": {},
   "outputs": [
    {
     "data": {
      "text/plain": [
       "['.anaconda',\n",
       " '.astropy',\n",
       " '.bash_history',\n",
       " '.conda',\n",
       " '.cufflinks',\n",
       " '.gitconfig',\n",
       " '.ipynb_checkpoints',\n",
       " '.ipython',\n",
       " '.jupyter',\n",
       " '.lesshst',\n",
       " '.matplotlib',\n",
       " '.spyder-py3',\n",
       " '.vscode',\n",
       " '100pandaspuzzles.ipynb',\n",
       " '3D Objects',\n",
       " 'adult .ipynb',\n",
       " 'adult.csv',\n",
       " 'anaconda3',\n",
       " 'analysis.ipynb',\n",
       " 'AppData',\n",
       " 'Application Data',\n",
       " 'basic programming 1 assignment .ipynb',\n",
       " 'books.csv',\n",
       " 'books.db',\n",
       " 'break, continue and pass.ipynb',\n",
       " 'built-in functions.ipynb',\n",
       " 'built-in modules.ipynb',\n",
       " 'business-financial-data-december-2021-quarter-csv.zip',\n",
       " 'business-operations-survey-2020-covid-19-csv.csv',\n",
       " 'Contacts',\n",
       " 'Cookies',\n",
       " 'CPI Data.xlsx',\n",
       " 'data analysis warmup exercise .ipynb',\n",
       " 'Data Analytics  -Indian Stock Market Top 2000.pdf',\n",
       " 'Data+Sets.rar',\n",
       " 'data.csv',\n",
       " 'data.Xls',\n",
       " 'data_description.txt',\n",
       " 'Data_Train.xlsx',\n",
       " 'Delloite case study.ipynb',\n",
       " 'dict1.csv',\n",
       " 'dict1_indexFalse.csv',\n",
       " 'DLLs',\n",
       " 'Doc',\n",
       " 'Documents',\n",
       " 'Downloads',\n",
       " 'E-commerce purchase project.ipynb',\n",
       " 'Ecommerce purchase project .ipynb',\n",
       " 'Ecommerce Purchases',\n",
       " 'Ecommerce Purchases.csv',\n",
       " 'EDA Part 1.ipynb',\n",
       " 'EDA projects .ipynb',\n",
       " 'EDA- Part 1 (1).ipynb',\n",
       " 'Exchange rate.xlsx',\n",
       " 'Exports Merchandise.xlsx',\n",
       " 'Favorites',\n",
       " 'flask project.ipynb',\n",
       " 'FlightPrediction.ipynb',\n",
       " 'for loop and nested loop.ipynb',\n",
       " 'gender_submission.csv',\n",
       " 'hotel_bookings.csv',\n",
       " 'House price EDA  & Feature engineering.ipynb',\n",
       " 'include',\n",
       " 'IRIS.csv',\n",
       " 'javolin project.ipynb',\n",
       " 'Lib',\n",
       " 'libs',\n",
       " 'LICENSE.txt',\n",
       " 'Links',\n",
       " 'Local Settings',\n",
       " 'matplotlib and seaborn visualization.ipynb',\n",
       " 'Music',\n",
       " 'My Documents',\n",
       " 'mySalaries.csv',\n",
       " 'nba.csv',\n",
       " 'NetHood',\n",
       " 'NEWS.txt',\n",
       " 'NTUSER.DAT',\n",
       " 'ntuser.dat.LOG1',\n",
       " 'ntuser.dat.LOG2',\n",
       " 'NTUSER.DAT{99f0112a-f095-11ec-9a4d-db3bc5d1794c}.TM.blf',\n",
       " 'NTUSER.DAT{99f0112a-f095-11ec-9a4d-db3bc5d1794c}.TMContainer00000000000000000001.regtrans-ms',\n",
       " 'NTUSER.DAT{99f0112a-f095-11ec-9a4d-db3bc5d1794c}.TMContainer00000000000000000002.regtrans-ms',\n",
       " 'ntuser.ini',\n",
       " 'numphy.ipynb',\n",
       " 'numphyclass1.ipynb',\n",
       " 'numpy practice.ipynb',\n",
       " 'Numpy project.ipynb',\n",
       " 'numpy.ipynb',\n",
       " 'numpy100qn.ipynb',\n",
       " 'OneDrive',\n",
       " 'oops Atm project.ipynb',\n",
       " 'oops concept.ipynb',\n",
       " 'oops fraction project.ipynb',\n",
       " 'Pandas (1).ipynb',\n",
       " 'pandas 2  day.ipynb',\n",
       " 'pandas 4 sudhkumar .ipynb',\n",
       " 'pandas class 3 sudhkumar.ipynb',\n",
       " 'pandas class homework discussed .ipynb',\n",
       " 'pandas codewithHARRY.ipynb',\n",
       " 'pandas day 3.ipynb',\n",
       " 'Pandas-Data-Science-Tasks-master.zip',\n",
       " 'pandas_sudh_1.ipynb',\n",
       " 'pdf file reader.ipynb',\n",
       " 'pdf.ipynb',\n",
       " 'Postman',\n",
       " 'practice python .ipynb',\n",
       " 'PrintHood',\n",
       " 'programing assignment 2.ipynb',\n",
       " 'programing assignment 4.ipynb',\n",
       " 'programing assignment 5.ipynb',\n",
       " 'programming assignment 1.ipynb',\n",
       " 'programming assignment 7.ipynb',\n",
       " 'Project 1 Ecommerce dataset.ipynb',\n",
       " 'project 2  employees salary.ipynb',\n",
       " 'project 3.ipynb',\n",
       " 'project analyse though python.ipynb',\n",
       " 'PycharmProjects',\n",
       " 'python assignment 10.ipynb',\n",
       " 'python Assignment 11.ipynb',\n",
       " 'python assignment 12.ipynb',\n",
       " 'python assignment 13 .ipynb',\n",
       " 'python assignment 14.ipynb',\n",
       " 'Python assignment 15.ipynb',\n",
       " 'python assignment 16.ipynb',\n",
       " 'python assignment 17.ipynb',\n",
       " 'python assignment 18..ipynb',\n",
       " 'python assignment 18.ipynb',\n",
       " 'python assignment 19.ipynb',\n",
       " 'python assignment 20.ipynb',\n",
       " 'python assignment 21.ipynb',\n",
       " 'python assignment 22.ipynb',\n",
       " 'python assignment 23.ipynb',\n",
       " 'python assignment 24.ipynb',\n",
       " 'python assignment 25.ipynb',\n",
       " 'python assignment 3.ipynb',\n",
       " 'python assignment 4.ipynb',\n",
       " 'python assignment 5.ipynb',\n",
       " 'python assignment 7.ipynb',\n",
       " 'python assignment 8.ipynb',\n",
       " 'python assignment 9.ipynb',\n",
       " 'python guessing game.ipynb',\n",
       " 'python oop project .ipynb',\n",
       " 'python practice .ipynb',\n",
       " 'python programing assignment 6.ipynb',\n",
       " 'python training 1.ipynb',\n",
       " 'python.exe',\n",
       " 'python3.dll',\n",
       " 'python310.dll',\n",
       " 'pythonw.exe',\n",
       " 'Recent',\n",
       " 'Salaries case study.ipynb',\n",
       " 'Salaries.csv',\n",
       " 'Sales_April_2019.csv',\n",
       " 'sample_submission.csv',\n",
       " 'Saved Games',\n",
       " 'Scripts',\n",
       " 'seaborn-data',\n",
       " 'Seaborn.ipynb',\n",
       " 'Searches',\n",
       " 'SendTo',\n",
       " 'share',\n",
       " 'sql assignment 1.ipynb',\n",
       " 'sql assignment 10.ipynb',\n",
       " 'sql assignment 2.ipynb',\n",
       " 'sql assignment 3.ipynb',\n",
       " 'sql assignment 4.ipynb',\n",
       " 'sql assignment 5.ipynb',\n",
       " 'sql assignment 6.ipynb',\n",
       " 'sql assignment 7.ipynb',\n",
       " 'sql assignment 8.ipynb',\n",
       " 'sql assignment 9.ipynb',\n",
       " 'Start Menu',\n",
       " 'Statisitcs practice.ipynb',\n",
       " 'survey_results_public.csv',\n",
       " 'survey_results_schema.csv',\n",
       " 'tcl',\n",
       " 'Templates',\n",
       " 'test.csv',\n",
       " 'Test_set.xlsx',\n",
       " 'text.csv',\n",
       " 'text.txt',\n",
       " 'titanic project.ipynb',\n",
       " 'today.txt',\n",
       " 'Tools',\n",
       " 'top500companies.csv',\n",
       " 'train (1).csv',\n",
       " 'train.csv',\n",
       " 'Untitled.ipynb',\n",
       " 'Untitled1.ipynb',\n",
       " 'Untitled10.ipynb',\n",
       " 'Untitled11.ipynb',\n",
       " 'Untitled12.ipynb',\n",
       " 'Untitled13.ipynb',\n",
       " 'Untitled14.ipynb',\n",
       " 'Untitled15.ipynb',\n",
       " 'Untitled16.ipynb',\n",
       " 'Untitled17.ipynb',\n",
       " 'Untitled18.ipynb',\n",
       " 'Untitled19.ipynb',\n",
       " 'Untitled2.ipynb',\n",
       " 'Untitled20.ipynb',\n",
       " 'Untitled21.ipynb',\n",
       " 'Untitled22.ipynb',\n",
       " 'Untitled23.ipynb',\n",
       " 'Untitled24.ipynb',\n",
       " 'Untitled25.ipynb',\n",
       " 'Untitled26.ipynb',\n",
       " 'Untitled27.ipynb',\n",
       " 'Untitled3.ipynb',\n",
       " 'Untitled4.ipynb',\n",
       " 'Untitled5.ipynb',\n",
       " 'Untitled6.ipynb',\n",
       " 'Untitled7.ipynb',\n",
       " 'Untitled8.ipynb',\n",
       " 'Untitled9.ipynb',\n",
       " 'US accident 2016-2020 data analysis.ipynb',\n",
       " 'US Accident data analysis.ipynb',\n",
       " 'US_Accidents_Dec21_updated.csv',\n",
       " 'vcruntime140.dll',\n",
       " 'vcruntime140_1.dll',\n",
       " 'Videos',\n",
       " 'webpage.html',\n",
       " 'webscraping project.ipynb',\n",
       " 'zoo.ipynb']"
      ]
     },
     "execution_count": 23,
     "metadata": {},
     "output_type": "execute_result"
    }
   ],
   "source": [
    "os.listdir()"
   ]
  },
  {
   "cell_type": "code",
   "execution_count": null,
   "id": "beaed07e",
   "metadata": {},
   "outputs": [],
   "source": []
  }
 ],
 "metadata": {
  "kernelspec": {
   "display_name": "Python 3 (ipykernel)",
   "language": "python",
   "name": "python3"
  },
  "language_info": {
   "codemirror_mode": {
    "name": "ipython",
    "version": 3
   },
   "file_extension": ".py",
   "mimetype": "text/x-python",
   "name": "python",
   "nbconvert_exporter": "python",
   "pygments_lexer": "ipython3",
   "version": "3.9.7"
  }
 },
 "nbformat": 4,
 "nbformat_minor": 5
}

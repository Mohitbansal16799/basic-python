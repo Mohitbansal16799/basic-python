{
 "cells": [
  {
   "cell_type": "code",
   "execution_count": 1,
   "id": "0c097614",
   "metadata": {},
   "outputs": [],
   "source": [
    "#dictionary has no indexing\n",
    "#Dictionary is a mutable type\n",
    "#Keys = immutable and values = mutable\n",
    "#Keys should be unique"
   ]
  },
  {
   "cell_type": "code",
   "execution_count": 3,
   "id": "252ed938",
   "metadata": {},
   "outputs": [],
   "source": [
    "d = {\"name\":\"nitish\",\"gender\":\"male\"}"
   ]
  },
  {
   "cell_type": "code",
   "execution_count": 4,
   "id": "08630bf0",
   "metadata": {},
   "outputs": [
    {
     "data": {
      "text/plain": [
       "{'name': 'nitish', 'gender': 'male'}"
      ]
     },
     "execution_count": 4,
     "metadata": {},
     "output_type": "execute_result"
    }
   ],
   "source": [
    "d"
   ]
  },
  {
   "cell_type": "code",
   "execution_count": 6,
   "id": "1785f3a4",
   "metadata": {},
   "outputs": [
    {
     "ename": "TypeError",
     "evalue": "unhashable type: 'list'",
     "output_type": "error",
     "traceback": [
      "\u001b[1;31m---------------------------------------------------------------------------\u001b[0m",
      "\u001b[1;31mTypeError\u001b[0m                                 Traceback (most recent call last)",
      "\u001b[1;32m~\\AppData\\Local\\Temp/ipykernel_23428/1487813764.py\u001b[0m in \u001b[0;36m<module>\u001b[1;34m\u001b[0m\n\u001b[1;32m----> 1\u001b[1;33m \u001b[0md\u001b[0m \u001b[1;33m=\u001b[0m \u001b[1;33m{\u001b[0m\u001b[1;33m[\u001b[0m\u001b[1;36m1\u001b[0m\u001b[1;33m,\u001b[0m\u001b[1;36m2\u001b[0m\u001b[1;33m,\u001b[0m\u001b[1;36m3\u001b[0m\u001b[1;33m]\u001b[0m\u001b[1;33m:\u001b[0m\u001b[1;34m\"hello\"\u001b[0m\u001b[1;33m}\u001b[0m \u001b[1;31m#it create error because keys are immutable and lists are mutable\u001b[0m\u001b[1;33m\u001b[0m\u001b[1;33m\u001b[0m\u001b[0m\n\u001b[0m",
      "\u001b[1;31mTypeError\u001b[0m: unhashable type: 'list'"
     ]
    }
   ],
   "source": [
    "d = {[1,2,3]:\"hello\"} #it create error because keys are immutable and lists are mutable"
   ]
  },
  {
   "cell_type": "code",
   "execution_count": 9,
   "id": "cbc47b0e",
   "metadata": {},
   "outputs": [],
   "source": [
    "d ={(1,2,3):\"hello\"} #because tuple are immutable"
   ]
  },
  {
   "cell_type": "code",
   "execution_count": 10,
   "id": "e7e21398",
   "metadata": {},
   "outputs": [
    {
     "data": {
      "text/plain": [
       "{(1, 2, 3): 'hello'}"
      ]
     },
     "execution_count": 10,
     "metadata": {},
     "output_type": "execute_result"
    }
   ],
   "source": [
    "d"
   ]
  },
  {
   "cell_type": "markdown",
   "id": "6639ff23",
   "metadata": {},
   "source": [
    "# Access"
   ]
  },
  {
   "cell_type": "code",
   "execution_count": 11,
   "id": "c9acb5eb",
   "metadata": {},
   "outputs": [],
   "source": [
    "d = {\"name\":\"nitish\",\"gender\":\"male\"}"
   ]
  },
  {
   "cell_type": "code",
   "execution_count": 13,
   "id": "d28ffff5",
   "metadata": {},
   "outputs": [
    {
     "data": {
      "text/plain": [
       "'nitish'"
      ]
     },
     "execution_count": 13,
     "metadata": {},
     "output_type": "execute_result"
    }
   ],
   "source": [
    "d[\"name\"]"
   ]
  },
  {
   "cell_type": "markdown",
   "id": "38ad23f5",
   "metadata": {},
   "source": [
    "# Edit"
   ]
  },
  {
   "cell_type": "code",
   "execution_count": 15,
   "id": "bf163911",
   "metadata": {},
   "outputs": [
    {
     "data": {
      "text/plain": [
       "{'name': 'nitish', 'gender': 'male'}"
      ]
     },
     "execution_count": 15,
     "metadata": {},
     "output_type": "execute_result"
    }
   ],
   "source": [
    "d"
   ]
  },
  {
   "cell_type": "code",
   "execution_count": 16,
   "id": "1061a681",
   "metadata": {},
   "outputs": [],
   "source": [
    "d[\"name\"] = \"rahul\""
   ]
  },
  {
   "cell_type": "code",
   "execution_count": 17,
   "id": "99ba1ede",
   "metadata": {},
   "outputs": [
    {
     "data": {
      "text/plain": [
       "{'name': 'rahul', 'gender': 'male'}"
      ]
     },
     "execution_count": 17,
     "metadata": {},
     "output_type": "execute_result"
    }
   ],
   "source": [
    "d"
   ]
  },
  {
   "cell_type": "markdown",
   "id": "f31740d7",
   "metadata": {},
   "source": [
    "# Add new key value pair "
   ]
  },
  {
   "cell_type": "code",
   "execution_count": 18,
   "id": "96e143d4",
   "metadata": {},
   "outputs": [],
   "source": [
    "d[\"age\"] = 25"
   ]
  },
  {
   "cell_type": "code",
   "execution_count": 19,
   "id": "73dfc194",
   "metadata": {},
   "outputs": [
    {
     "data": {
      "text/plain": [
       "{'name': 'rahul', 'gender': 'male', 'age': 25}"
      ]
     },
     "execution_count": 19,
     "metadata": {},
     "output_type": "execute_result"
    }
   ],
   "source": [
    "d"
   ]
  },
  {
   "cell_type": "markdown",
   "id": "c752c4a8",
   "metadata": {},
   "source": [
    "# Delete"
   ]
  },
  {
   "cell_type": "code",
   "execution_count": 20,
   "id": "7f7a05d9",
   "metadata": {},
   "outputs": [
    {
     "data": {
      "text/plain": [
       "{'name': 'rahul', 'gender': 'male', 'age': 25}"
      ]
     },
     "execution_count": 20,
     "metadata": {},
     "output_type": "execute_result"
    }
   ],
   "source": [
    "d"
   ]
  },
  {
   "cell_type": "code",
   "execution_count": 21,
   "id": "0043d713",
   "metadata": {},
   "outputs": [],
   "source": [
    "del d[\"gender\"]"
   ]
  },
  {
   "cell_type": "code",
   "execution_count": 22,
   "id": "81146ba8",
   "metadata": {},
   "outputs": [
    {
     "data": {
      "text/plain": [
       "{'name': 'rahul', 'age': 25}"
      ]
     },
     "execution_count": 22,
     "metadata": {},
     "output_type": "execute_result"
    }
   ],
   "source": [
    "d"
   ]
  },
  {
   "cell_type": "markdown",
   "id": "0ad12eee",
   "metadata": {},
   "source": [
    "# Operations"
   ]
  },
  {
   "cell_type": "code",
   "execution_count": 23,
   "id": "7a87c3d5",
   "metadata": {},
   "outputs": [],
   "source": [
    "d = {\"mohit\" : \"bansal\",\"gogi\":\"bansal\" ,\"john\":\"cena\",\"jeff\":\"hardy\"}"
   ]
  },
  {
   "cell_type": "code",
   "execution_count": 24,
   "id": "8d0a6548",
   "metadata": {},
   "outputs": [
    {
     "data": {
      "text/plain": [
       "{'mohit': 'bansal', 'gogi': 'bansal', 'john': 'cena', 'jeff': 'hardy'}"
      ]
     },
     "execution_count": 24,
     "metadata": {},
     "output_type": "execute_result"
    }
   ],
   "source": [
    "d"
   ]
  },
  {
   "cell_type": "code",
   "execution_count": 26,
   "id": "2e952005",
   "metadata": {},
   "outputs": [
    {
     "name": "stdout",
     "output_type": "stream",
     "text": [
      "mohit\n",
      "gogi\n",
      "john\n",
      "jeff\n"
     ]
    }
   ],
   "source": [
    "for i in d:\n",
    "    print(i)#always show keys because dictionary work on keys"
   ]
  },
  {
   "cell_type": "code",
   "execution_count": 29,
   "id": "0cb2b44f",
   "metadata": {},
   "outputs": [
    {
     "data": {
      "text/plain": [
       "False"
      ]
     },
     "execution_count": 29,
     "metadata": {},
     "output_type": "execute_result"
    }
   ],
   "source": [
    "\"bansal\" in d # because dictionary work on keys"
   ]
  },
  {
   "cell_type": "code",
   "execution_count": 30,
   "id": "abcd887e",
   "metadata": {},
   "outputs": [
    {
     "data": {
      "text/plain": [
       "True"
      ]
     },
     "execution_count": 30,
     "metadata": {},
     "output_type": "execute_result"
    }
   ],
   "source": [
    "\"mohit\" in d"
   ]
  },
  {
   "cell_type": "code",
   "execution_count": 32,
   "id": "1247b385",
   "metadata": {},
   "outputs": [
    {
     "data": {
      "text/plain": [
       "dict_keys(['mohit', 'gogi', 'john', 'jeff'])"
      ]
     },
     "execution_count": 32,
     "metadata": {},
     "output_type": "execute_result"
    }
   ],
   "source": [
    "d.keys()"
   ]
  },
  {
   "cell_type": "code",
   "execution_count": 33,
   "id": "f919eecc",
   "metadata": {},
   "outputs": [
    {
     "data": {
      "text/plain": [
       "dict_values(['bansal', 'bansal', 'cena', 'hardy'])"
      ]
     },
     "execution_count": 33,
     "metadata": {},
     "output_type": "execute_result"
    }
   ],
   "source": [
    "d.values()"
   ]
  },
  {
   "cell_type": "code",
   "execution_count": 34,
   "id": "2462c15e",
   "metadata": {},
   "outputs": [
    {
     "data": {
      "text/plain": [
       "'mohit'"
      ]
     },
     "execution_count": 34,
     "metadata": {},
     "output_type": "execute_result"
    }
   ],
   "source": [
    "max(d)"
   ]
  },
  {
   "cell_type": "code",
   "execution_count": 35,
   "id": "da7c8a2b",
   "metadata": {},
   "outputs": [
    {
     "data": {
      "text/plain": [
       "'gogi'"
      ]
     },
     "execution_count": 35,
     "metadata": {},
     "output_type": "execute_result"
    }
   ],
   "source": [
    "min(d)"
   ]
  },
  {
   "cell_type": "code",
   "execution_count": 36,
   "id": "63e9653e",
   "metadata": {},
   "outputs": [
    {
     "data": {
      "text/plain": [
       "['gogi', 'jeff', 'john', 'mohit']"
      ]
     },
     "execution_count": 36,
     "metadata": {},
     "output_type": "execute_result"
    }
   ],
   "source": [
    "sorted(d)"
   ]
  },
  {
   "cell_type": "code",
   "execution_count": 37,
   "id": "57f9dd96",
   "metadata": {},
   "outputs": [
    {
     "data": {
      "text/plain": [
       "['mohit', 'john', 'jeff', 'gogi']"
      ]
     },
     "execution_count": 37,
     "metadata": {},
     "output_type": "execute_result"
    }
   ],
   "source": [
    "sorted(d,reverse = True)"
   ]
  },
  {
   "cell_type": "code",
   "execution_count": 38,
   "id": "06a230c0",
   "metadata": {},
   "outputs": [
    {
     "data": {
      "text/plain": [
       "4"
      ]
     },
     "execution_count": 38,
     "metadata": {},
     "output_type": "execute_result"
    }
   ],
   "source": [
    "len(d)"
   ]
  },
  {
   "cell_type": "code",
   "execution_count": null,
   "id": "f8b13652",
   "metadata": {},
   "outputs": [],
   "source": []
  }
 ],
 "metadata": {
  "kernelspec": {
   "display_name": "Python 3 (ipykernel)",
   "language": "python",
   "name": "python3"
  },
  "language_info": {
   "codemirror_mode": {
    "name": "ipython",
    "version": 3
   },
   "file_extension": ".py",
   "mimetype": "text/x-python",
   "name": "python",
   "nbconvert_exporter": "python",
   "pygments_lexer": "ipython3",
   "version": "3.9.7"
  }
 },
 "nbformat": 4,
 "nbformat_minor": 5
}

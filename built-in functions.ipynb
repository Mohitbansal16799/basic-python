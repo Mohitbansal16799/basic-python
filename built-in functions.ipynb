{
 "cells": [
  {
   "cell_type": "markdown",
   "id": "df17486e",
   "metadata": {},
   "source": [
    "# 1.print"
   ]
  },
  {
   "cell_type": "code",
   "execution_count": 1,
   "id": "62d4a7ad",
   "metadata": {},
   "outputs": [
    {
     "name": "stdout",
     "output_type": "stream",
     "text": [
      "hello world\n"
     ]
    }
   ],
   "source": [
    "print(\"hello world\")"
   ]
  },
  {
   "cell_type": "markdown",
   "id": "5cb3f686",
   "metadata": {},
   "source": [
    "# 2.input"
   ]
  },
  {
   "cell_type": "code",
   "execution_count": 3,
   "id": "13cc398e",
   "metadata": {},
   "outputs": [
    {
     "name": "stdout",
     "output_type": "stream",
     "text": [
      "enter your namemohit\n"
     ]
    },
    {
     "data": {
      "text/plain": [
       "'mohit'"
      ]
     },
     "execution_count": 3,
     "metadata": {},
     "output_type": "execute_result"
    }
   ],
   "source": [
    "input(\"enter your name\")"
   ]
  },
  {
   "cell_type": "code",
   "execution_count": 4,
   "id": "5965aec3",
   "metadata": {},
   "outputs": [
    {
     "name": "stdout",
     "output_type": "stream",
     "text": [
      "enter any no.10\n"
     ]
    },
    {
     "data": {
      "text/plain": [
       "10"
      ]
     },
     "execution_count": 4,
     "metadata": {},
     "output_type": "execute_result"
    }
   ],
   "source": [
    "int(input(\"enter any no.\"))"
   ]
  },
  {
   "cell_type": "markdown",
   "id": "97b93543",
   "metadata": {},
   "source": [
    "# 3.type"
   ]
  },
  {
   "cell_type": "code",
   "execution_count": 5,
   "id": "ef7c2901",
   "metadata": {},
   "outputs": [
    {
     "data": {
      "text/plain": [
       "int"
      ]
     },
     "execution_count": 5,
     "metadata": {},
     "output_type": "execute_result"
    }
   ],
   "source": [
    "a = 4\n",
    "type(a)"
   ]
  },
  {
   "cell_type": "code",
   "execution_count": 6,
   "id": "a62de6b7",
   "metadata": {},
   "outputs": [
    {
     "data": {
      "text/plain": [
       "str"
      ]
     },
     "execution_count": 6,
     "metadata": {},
     "output_type": "execute_result"
    }
   ],
   "source": [
    "a = \"mohit\"\n",
    "type(a)"
   ]
  },
  {
   "cell_type": "code",
   "execution_count": 8,
   "id": "4d0a9ecf",
   "metadata": {},
   "outputs": [
    {
     "data": {
      "text/plain": [
       "bool"
      ]
     },
     "execution_count": 8,
     "metadata": {},
     "output_type": "execute_result"
    }
   ],
   "source": [
    "a = True\n",
    "type(a)\n"
   ]
  },
  {
   "cell_type": "code",
   "execution_count": 9,
   "id": "09dd1ef2",
   "metadata": {},
   "outputs": [
    {
     "data": {
      "text/plain": [
       "float"
      ]
     },
     "execution_count": 9,
     "metadata": {},
     "output_type": "execute_result"
    }
   ],
   "source": [
    "a = 3.4\n",
    "type(a)"
   ]
  },
  {
   "cell_type": "markdown",
   "id": "8243e21b",
   "metadata": {},
   "source": [
    "# 4.abs"
   ]
  },
  {
   "cell_type": "code",
   "execution_count": 10,
   "id": "a752b233",
   "metadata": {},
   "outputs": [
    {
     "data": {
      "text/plain": [
       "4"
      ]
     },
     "execution_count": 10,
     "metadata": {},
     "output_type": "execute_result"
    }
   ],
   "source": [
    "#modulas functiom\n",
    "#absolute\n",
    "abs(4)"
   ]
  },
  {
   "cell_type": "code",
   "execution_count": 11,
   "id": "b4bb3548",
   "metadata": {},
   "outputs": [
    {
     "data": {
      "text/plain": [
       "4"
      ]
     },
     "execution_count": 11,
     "metadata": {},
     "output_type": "execute_result"
    }
   ],
   "source": [
    "abs(-4)"
   ]
  },
  {
   "cell_type": "markdown",
   "id": "b16e9912",
   "metadata": {},
   "source": [
    "# 5.power"
   ]
  },
  {
   "cell_type": "code",
   "execution_count": 12,
   "id": "85f7d21d",
   "metadata": {},
   "outputs": [
    {
     "data": {
      "text/plain": [
       "8"
      ]
     },
     "execution_count": 12,
     "metadata": {},
     "output_type": "execute_result"
    }
   ],
   "source": [
    "pow(2,3)"
   ]
  },
  {
   "cell_type": "code",
   "execution_count": 13,
   "id": "87de674f",
   "metadata": {},
   "outputs": [
    {
     "data": {
      "text/plain": [
       "0.125"
      ]
     },
     "execution_count": 13,
     "metadata": {},
     "output_type": "execute_result"
    }
   ],
   "source": [
    "pow(2,-3)"
   ]
  },
  {
   "cell_type": "markdown",
   "id": "2469b924",
   "metadata": {},
   "source": [
    "# 6.min\\max"
   ]
  },
  {
   "cell_type": "code",
   "execution_count": 14,
   "id": "de9dc6ed",
   "metadata": {},
   "outputs": [
    {
     "data": {
      "text/plain": [
       "2"
      ]
     },
     "execution_count": 14,
     "metadata": {},
     "output_type": "execute_result"
    }
   ],
   "source": [
    "min([2,4,6,8,9])"
   ]
  },
  {
   "cell_type": "code",
   "execution_count": 15,
   "id": "84435c00",
   "metadata": {},
   "outputs": [
    {
     "data": {
      "text/plain": [
       "9"
      ]
     },
     "execution_count": 15,
     "metadata": {},
     "output_type": "execute_result"
    }
   ],
   "source": [
    "max([3,5,7,9])"
   ]
  },
  {
   "cell_type": "markdown",
   "id": "2ccc5fe9",
   "metadata": {},
   "source": [
    "# 7.round"
   ]
  },
  {
   "cell_type": "code",
   "execution_count": 16,
   "id": "22516de7",
   "metadata": {},
   "outputs": [
    {
     "data": {
      "text/plain": [
       "3"
      ]
     },
     "execution_count": 16,
     "metadata": {},
     "output_type": "execute_result"
    }
   ],
   "source": [
    "c = 22/7\n",
    "round(c)"
   ]
  },
  {
   "cell_type": "code",
   "execution_count": 17,
   "id": "ed3ba3f5",
   "metadata": {},
   "outputs": [
    {
     "data": {
      "text/plain": [
       "3.14"
      ]
     },
     "execution_count": 17,
     "metadata": {},
     "output_type": "execute_result"
    }
   ],
   "source": [
    "round(c,2)"
   ]
  },
  {
   "cell_type": "code",
   "execution_count": 18,
   "id": "548c3040",
   "metadata": {},
   "outputs": [
    {
     "data": {
      "text/plain": [
       "3.1429"
      ]
     },
     "execution_count": 18,
     "metadata": {},
     "output_type": "execute_result"
    }
   ],
   "source": [
    "round(c,4)"
   ]
  },
  {
   "cell_type": "markdown",
   "id": "1f771382",
   "metadata": {},
   "source": [
    "# 8.divmod"
   ]
  },
  {
   "cell_type": "code",
   "execution_count": 19,
   "id": "f927e7a7",
   "metadata": {},
   "outputs": [
    {
     "data": {
      "text/plain": [
       "(3, 1)"
      ]
     },
     "execution_count": 19,
     "metadata": {},
     "output_type": "execute_result"
    }
   ],
   "source": [
    "divmod(10,3)"
   ]
  },
  {
   "cell_type": "markdown",
   "id": "f757adb9",
   "metadata": {},
   "source": [
    "# 9.bin/oct/hex"
   ]
  },
  {
   "cell_type": "code",
   "execution_count": 20,
   "id": "46767ac8",
   "metadata": {},
   "outputs": [
    {
     "data": {
      "text/plain": [
       "'0b100'"
      ]
     },
     "execution_count": 20,
     "metadata": {},
     "output_type": "execute_result"
    }
   ],
   "source": [
    "bin(4) #binary value of 4"
   ]
  },
  {
   "cell_type": "code",
   "execution_count": 21,
   "id": "98d9694e",
   "metadata": {},
   "outputs": [
    {
     "data": {
      "text/plain": [
       "'0o4'"
      ]
     },
     "execution_count": 21,
     "metadata": {},
     "output_type": "execute_result"
    }
   ],
   "source": [
    "oct(4) #octal value of 4"
   ]
  },
  {
   "cell_type": "code",
   "execution_count": 22,
   "id": "ce4b2c84",
   "metadata": {},
   "outputs": [
    {
     "data": {
      "text/plain": [
       "'0x4'"
      ]
     },
     "execution_count": 22,
     "metadata": {},
     "output_type": "execute_result"
    }
   ],
   "source": [
    "hex(4) #hexual value of 4"
   ]
  },
  {
   "cell_type": "markdown",
   "id": "294b3f34",
   "metadata": {},
   "source": [
    "# 10.id"
   ]
  },
  {
   "cell_type": "code",
   "execution_count": 23,
   "id": "708354cd",
   "metadata": {},
   "outputs": [
    {
     "data": {
      "text/plain": [
       "2565982022320"
      ]
     },
     "execution_count": 23,
     "metadata": {},
     "output_type": "execute_result"
    }
   ],
   "source": [
    "a = 13\n",
    "id(a)"
   ]
  },
  {
   "cell_type": "markdown",
   "id": "a6d2fe00",
   "metadata": {},
   "source": [
    "# 11.len"
   ]
  },
  {
   "cell_type": "code",
   "execution_count": 24,
   "id": "c62ec17b",
   "metadata": {},
   "outputs": [
    {
     "data": {
      "text/plain": [
       "7"
      ]
     },
     "execution_count": 24,
     "metadata": {},
     "output_type": "execute_result"
    }
   ],
   "source": [
    "len(\"kolkata\")"
   ]
  },
  {
   "cell_type": "markdown",
   "id": "d311b17e",
   "metadata": {},
   "source": [
    "# 12.sum"
   ]
  },
  {
   "cell_type": "code",
   "execution_count": 25,
   "id": "fa9d4a26",
   "metadata": {},
   "outputs": [
    {
     "data": {
      "text/plain": [
       "19"
      ]
     },
     "execution_count": 25,
     "metadata": {},
     "output_type": "execute_result"
    }
   ],
   "source": [
    "sum([1,3,6,9])"
   ]
  },
  {
   "cell_type": "markdown",
   "id": "17c20aad",
   "metadata": {},
   "source": [
    "# 13.help"
   ]
  },
  {
   "cell_type": "code",
   "execution_count": 29,
   "id": "85945586",
   "metadata": {},
   "outputs": [
    {
     "name": "stdout",
     "output_type": "stream",
     "text": [
      "Help on built-in function print in module builtins:\n",
      "\n",
      "print(...)\n",
      "    print(value, ..., sep=' ', end='\\n', file=sys.stdout, flush=False)\n",
      "    \n",
      "    Prints the values to a stream, or to sys.stdout by default.\n",
      "    Optional keyword arguments:\n",
      "    file:  a file-like object (stream); defaults to the current sys.stdout.\n",
      "    sep:   string inserted between values, default a space.\n",
      "    end:   string appended after the last value, default a newline.\n",
      "    flush: whether to forcibly flush the stream.\n",
      "\n"
     ]
    }
   ],
   "source": [
    "help(\"print\") #to read documantation of any function"
   ]
  },
  {
   "cell_type": "code",
   "execution_count": null,
   "id": "b3654878",
   "metadata": {},
   "outputs": [],
   "source": []
  }
 ],
 "metadata": {
  "kernelspec": {
   "display_name": "Python 3 (ipykernel)",
   "language": "python",
   "name": "python3"
  },
  "language_info": {
   "codemirror_mode": {
    "name": "ipython",
    "version": 3
   },
   "file_extension": ".py",
   "mimetype": "text/x-python",
   "name": "python",
   "nbconvert_exporter": "python",
   "pygments_lexer": "ipython3",
   "version": "3.9.7"
  }
 },
 "nbformat": 4,
 "nbformat_minor": 5
}

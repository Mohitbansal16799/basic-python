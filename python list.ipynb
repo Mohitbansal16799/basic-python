{
 "cells": [
  {
   "cell_type": "markdown",
   "id": "b5e1f32e",
   "metadata": {},
   "source": [
    "# what is list?"
   ]
  },
  {
   "cell_type": "code",
   "execution_count": 1,
   "id": "43320931",
   "metadata": {},
   "outputs": [],
   "source": [
    "#list is a place where we can store different type of data types in single list"
   ]
  },
  {
   "cell_type": "markdown",
   "id": "3268dd69",
   "metadata": {},
   "source": [
    "# Array vs List"
   ]
  },
  {
   "cell_type": "code",
   "execution_count": 2,
   "id": "356bc9e4",
   "metadata": {},
   "outputs": [],
   "source": [
    "#Arrays are homogenous and list are hetrogenous\n",
    "#In arrays things are stored continously but in list it can't\n",
    "#Arrays are much faster\n",
    "#List are more programmer friendly\n",
    "\n"
   ]
  },
  {
   "cell_type": "markdown",
   "id": "96852385",
   "metadata": {},
   "source": [
    "# How to create list in python?"
   ]
  },
  {
   "cell_type": "code",
   "execution_count": 3,
   "id": "a70731e5",
   "metadata": {},
   "outputs": [],
   "source": [
    "l = [1,2,3,4,5] #homogenous list"
   ]
  },
  {
   "cell_type": "code",
   "execution_count": 15,
   "id": "b093fce5",
   "metadata": {},
   "outputs": [
    {
     "data": {
      "text/plain": [
       "['m', 'o', 'h', 'i', 't']"
      ]
     },
     "execution_count": 15,
     "metadata": {},
     "output_type": "execute_result"
    }
   ],
   "source": [
    "l"
   ]
  },
  {
   "cell_type": "code",
   "execution_count": 16,
   "id": "24be557a",
   "metadata": {},
   "outputs": [],
   "source": [
    "l1 = [\"mohit\",3,5.7,True] #hetrogenous list"
   ]
  },
  {
   "cell_type": "code",
   "execution_count": 17,
   "id": "3c944f31",
   "metadata": {},
   "outputs": [
    {
     "data": {
      "text/plain": [
       "['mohit', 3, 5.7, True]"
      ]
     },
     "execution_count": 17,
     "metadata": {},
     "output_type": "execute_result"
    }
   ],
   "source": [
    "l1"
   ]
  },
  {
   "cell_type": "code",
   "execution_count": 8,
   "id": "3ccf1291",
   "metadata": {},
   "outputs": [],
   "source": [
    "#multidimensionallist\n",
    "#2d list\n",
    "l = [1,2,[3,5]]"
   ]
  },
  {
   "cell_type": "code",
   "execution_count": 9,
   "id": "f8cea8a1",
   "metadata": {},
   "outputs": [
    {
     "data": {
      "text/plain": [
       "[1, 2, [3, 5]]"
      ]
     },
     "execution_count": 9,
     "metadata": {},
     "output_type": "execute_result"
    }
   ],
   "source": [
    "l"
   ]
  },
  {
   "cell_type": "code",
   "execution_count": 21,
   "id": "953c511a",
   "metadata": {},
   "outputs": [
    {
     "data": {
      "text/plain": [
       "[[[1, 2], [3, 4]], [[1, 3], [7, 8]]]"
      ]
     },
     "execution_count": 21,
     "metadata": {},
     "output_type": "execute_result"
    }
   ],
   "source": [
    "#3d list\n",
    "l3 = [[[1,2],[3,4]],[[1,3],[7,8]]]\n",
    "l3"
   ]
  },
  {
   "cell_type": "code",
   "execution_count": 12,
   "id": "b0478b99",
   "metadata": {},
   "outputs": [],
   "source": [
    "l = list(\"mohit\")"
   ]
  },
  {
   "cell_type": "code",
   "execution_count": 13,
   "id": "652ec5b9",
   "metadata": {},
   "outputs": [
    {
     "data": {
      "text/plain": [
       "['m', 'o', 'h', 'i', 't']"
      ]
     },
     "execution_count": 13,
     "metadata": {},
     "output_type": "execute_result"
    }
   ],
   "source": [
    "l"
   ]
  },
  {
   "cell_type": "markdown",
   "id": "5636fa0c",
   "metadata": {},
   "source": [
    "# How to access of items in list"
   ]
  },
  {
   "cell_type": "code",
   "execution_count": 18,
   "id": "2ec05fb0",
   "metadata": {},
   "outputs": [
    {
     "data": {
      "text/plain": [
       "['mohit', 3, 5.7, True]"
      ]
     },
     "execution_count": 18,
     "metadata": {},
     "output_type": "execute_result"
    }
   ],
   "source": [
    "l1"
   ]
  },
  {
   "cell_type": "code",
   "execution_count": 19,
   "id": "1ca65191",
   "metadata": {},
   "outputs": [
    {
     "data": {
      "text/plain": [
       "'mohit'"
      ]
     },
     "execution_count": 19,
     "metadata": {},
     "output_type": "execute_result"
    }
   ],
   "source": [
    "l1[0]"
   ]
  },
  {
   "cell_type": "code",
   "execution_count": 20,
   "id": "62d86e86",
   "metadata": {},
   "outputs": [
    {
     "data": {
      "text/plain": [
       "5.7"
      ]
     },
     "execution_count": 20,
     "metadata": {},
     "output_type": "execute_result"
    }
   ],
   "source": [
    "l1[2]"
   ]
  },
  {
   "cell_type": "code",
   "execution_count": 22,
   "id": "a189ee7d",
   "metadata": {},
   "outputs": [
    {
     "data": {
      "text/plain": [
       "[[[1, 2], [3, 4]], [[1, 3], [7, 8]]]"
      ]
     },
     "execution_count": 22,
     "metadata": {},
     "output_type": "execute_result"
    }
   ],
   "source": [
    "l3"
   ]
  },
  {
   "cell_type": "code",
   "execution_count": 23,
   "id": "15b882df",
   "metadata": {},
   "outputs": [
    {
     "data": {
      "text/plain": [
       "[[1, 2], [3, 4]]"
      ]
     },
     "execution_count": 23,
     "metadata": {},
     "output_type": "execute_result"
    }
   ],
   "source": [
    "l3[0]"
   ]
  },
  {
   "cell_type": "code",
   "execution_count": 24,
   "id": "190f30dd",
   "metadata": {},
   "outputs": [
    {
     "data": {
      "text/plain": [
       "[3, 4]"
      ]
     },
     "execution_count": 24,
     "metadata": {},
     "output_type": "execute_result"
    }
   ],
   "source": [
    "l3[0][1]"
   ]
  },
  {
   "cell_type": "code",
   "execution_count": 25,
   "id": "60ed69a0",
   "metadata": {},
   "outputs": [
    {
     "data": {
      "text/plain": [
       "4"
      ]
     },
     "execution_count": 25,
     "metadata": {},
     "output_type": "execute_result"
    }
   ],
   "source": [
    "l3[0][1][1]"
   ]
  },
  {
   "cell_type": "markdown",
   "id": "01b148dc",
   "metadata": {},
   "source": [
    "# how we can edit items in list"
   ]
  },
  {
   "cell_type": "code",
   "execution_count": 26,
   "id": "9c26f913",
   "metadata": {},
   "outputs": [
    {
     "data": {
      "text/plain": [
       "['mohit', 3, 5.7, True]"
      ]
     },
     "execution_count": 26,
     "metadata": {},
     "output_type": "execute_result"
    }
   ],
   "source": [
    "l1"
   ]
  },
  {
   "cell_type": "code",
   "execution_count": 27,
   "id": "4e92b314",
   "metadata": {},
   "outputs": [],
   "source": [
    "#list in python are mutable\n",
    "l1[0]=\"gogi\""
   ]
  },
  {
   "cell_type": "code",
   "execution_count": 28,
   "id": "785294e3",
   "metadata": {},
   "outputs": [
    {
     "data": {
      "text/plain": [
       "['gogi', 3, 5.7, True]"
      ]
     },
     "execution_count": 28,
     "metadata": {},
     "output_type": "execute_result"
    }
   ],
   "source": [
    "l1"
   ]
  },
  {
   "cell_type": "code",
   "execution_count": 29,
   "id": "243c8264",
   "metadata": {},
   "outputs": [],
   "source": [
    "l1[3] = 45987"
   ]
  },
  {
   "cell_type": "code",
   "execution_count": 30,
   "id": "55c6e649",
   "metadata": {},
   "outputs": [
    {
     "data": {
      "text/plain": [
       "['gogi', 3, 5.7, 45987]"
      ]
     },
     "execution_count": 30,
     "metadata": {},
     "output_type": "execute_result"
    }
   ],
   "source": [
    "l1"
   ]
  },
  {
   "cell_type": "markdown",
   "id": "60ceae05",
   "metadata": {},
   "source": [
    "# how to add new items in list"
   ]
  },
  {
   "cell_type": "code",
   "execution_count": 31,
   "id": "c1056dda",
   "metadata": {},
   "outputs": [],
   "source": [
    "#Append\n",
    "#extend\n",
    "#insert"
   ]
  },
  {
   "cell_type": "code",
   "execution_count": 32,
   "id": "436d4ca2",
   "metadata": {},
   "outputs": [
    {
     "data": {
      "text/plain": [
       "['gogi', 3, 5.7, 45987]"
      ]
     },
     "execution_count": 32,
     "metadata": {},
     "output_type": "execute_result"
    }
   ],
   "source": [
    "l1"
   ]
  },
  {
   "cell_type": "code",
   "execution_count": 33,
   "id": "e2ee7958",
   "metadata": {},
   "outputs": [],
   "source": [
    "l1.append(1987)"
   ]
  },
  {
   "cell_type": "code",
   "execution_count": 34,
   "id": "5999ad4b",
   "metadata": {},
   "outputs": [
    {
     "data": {
      "text/plain": [
       "['gogi', 3, 5.7, 45987, 1987]"
      ]
     },
     "execution_count": 34,
     "metadata": {},
     "output_type": "execute_result"
    }
   ],
   "source": [
    "l1"
   ]
  },
  {
   "cell_type": "code",
   "execution_count": 37,
   "id": "002ad9b5",
   "metadata": {},
   "outputs": [],
   "source": [
    "l1.extend([\"raju\",\"kaju\"])"
   ]
  },
  {
   "cell_type": "code",
   "execution_count": 38,
   "id": "21e08a97",
   "metadata": {},
   "outputs": [
    {
     "data": {
      "text/plain": [
       "['gogi', 3, 5.7, 45987, 1987, 'raju', 'kaju']"
      ]
     },
     "execution_count": 38,
     "metadata": {},
     "output_type": "execute_result"
    }
   ],
   "source": [
    "l1"
   ]
  },
  {
   "cell_type": "code",
   "execution_count": 40,
   "id": "5e079f56",
   "metadata": {},
   "outputs": [],
   "source": [
    "l1.insert(1,\"world\")"
   ]
  },
  {
   "cell_type": "code",
   "execution_count": 41,
   "id": "84f3e536",
   "metadata": {},
   "outputs": [
    {
     "data": {
      "text/plain": [
       "['gogi', 'world', 3, 5.7, 45987, 1987, 'raju', 'kaju']"
      ]
     },
     "execution_count": 41,
     "metadata": {},
     "output_type": "execute_result"
    }
   ],
   "source": [
    "l1"
   ]
  },
  {
   "cell_type": "code",
   "execution_count": 43,
   "id": "e638ed20",
   "metadata": {},
   "outputs": [],
   "source": [
    "l1.insert(3,\"youtube\")"
   ]
  },
  {
   "cell_type": "code",
   "execution_count": 44,
   "id": "a0fb15d6",
   "metadata": {},
   "outputs": [
    {
     "data": {
      "text/plain": [
       "['gogi', 'world', 3, 'youtube', 5.7, 45987, 1987, 'raju', 'kaju']"
      ]
     },
     "execution_count": 44,
     "metadata": {},
     "output_type": "execute_result"
    }
   ],
   "source": [
    "l1"
   ]
  },
  {
   "cell_type": "markdown",
   "id": "c8d7085a",
   "metadata": {},
   "source": [
    "# How to delete things in list"
   ]
  },
  {
   "cell_type": "code",
   "execution_count": 45,
   "id": "7eaebee1",
   "metadata": {},
   "outputs": [],
   "source": [
    "del l"
   ]
  },
  {
   "cell_type": "code",
   "execution_count": 46,
   "id": "1e54e2e4",
   "metadata": {},
   "outputs": [
    {
     "ename": "NameError",
     "evalue": "name 'l' is not defined",
     "output_type": "error",
     "traceback": [
      "\u001b[1;31m---------------------------------------------------------------------------\u001b[0m",
      "\u001b[1;31mNameError\u001b[0m                                 Traceback (most recent call last)",
      "\u001b[1;32m~\\AppData\\Local\\Temp/ipykernel_20928/3723490112.py\u001b[0m in \u001b[0;36m<module>\u001b[1;34m\u001b[0m\n\u001b[1;32m----> 1\u001b[1;33m \u001b[0ml\u001b[0m\u001b[1;33m\u001b[0m\u001b[1;33m\u001b[0m\u001b[0m\n\u001b[0m",
      "\u001b[1;31mNameError\u001b[0m: name 'l' is not defined"
     ]
    }
   ],
   "source": [
    "l #completely deleted"
   ]
  },
  {
   "cell_type": "code",
   "execution_count": 47,
   "id": "8a814643",
   "metadata": {},
   "outputs": [],
   "source": [
    "del l1[0]"
   ]
  },
  {
   "cell_type": "code",
   "execution_count": 48,
   "id": "e7048e33",
   "metadata": {},
   "outputs": [
    {
     "data": {
      "text/plain": [
       "['world', 3, 'youtube', 5.7, 45987, 1987, 'raju', 'kaju']"
      ]
     },
     "execution_count": 48,
     "metadata": {},
     "output_type": "execute_result"
    }
   ],
   "source": [
    "l1"
   ]
  },
  {
   "cell_type": "code",
   "execution_count": 50,
   "id": "515494e3",
   "metadata": {},
   "outputs": [],
   "source": [
    "l1.remove(\"youtube\")"
   ]
  },
  {
   "cell_type": "code",
   "execution_count": 51,
   "id": "78321d24",
   "metadata": {},
   "outputs": [
    {
     "data": {
      "text/plain": [
       "['world', 3, 5.7, 45987, 1987, 'raju', 'kaju']"
      ]
     },
     "execution_count": 51,
     "metadata": {},
     "output_type": "execute_result"
    }
   ],
   "source": [
    "l1"
   ]
  },
  {
   "cell_type": "code",
   "execution_count": 57,
   "id": "a37e593b",
   "metadata": {},
   "outputs": [
    {
     "data": {
      "text/plain": [
       "1987"
      ]
     },
     "execution_count": 57,
     "metadata": {},
     "output_type": "execute_result"
    }
   ],
   "source": [
    "l1.pop() #always delete last thing of list"
   ]
  },
  {
   "cell_type": "code",
   "execution_count": 58,
   "id": "34aec97e",
   "metadata": {},
   "outputs": [
    {
     "data": {
      "text/plain": [
       "['world', 3, 5.7, 45987]"
      ]
     },
     "execution_count": 58,
     "metadata": {},
     "output_type": "execute_result"
    }
   ],
   "source": [
    "l1"
   ]
  },
  {
   "cell_type": "code",
   "execution_count": 59,
   "id": "aabac522",
   "metadata": {},
   "outputs": [],
   "source": [
    "l1.clear() #clear do not list but make empty the list"
   ]
  },
  {
   "cell_type": "code",
   "execution_count": 60,
   "id": "d9498ef0",
   "metadata": {},
   "outputs": [
    {
     "data": {
      "text/plain": [
       "[]"
      ]
     },
     "execution_count": 60,
     "metadata": {},
     "output_type": "execute_result"
    }
   ],
   "source": [
    "l1"
   ]
  },
  {
   "cell_type": "markdown",
   "id": "1d13a580",
   "metadata": {},
   "source": [
    "# Operations present in list"
   ]
  },
  {
   "cell_type": "code",
   "execution_count": 61,
   "id": "516ba7be",
   "metadata": {},
   "outputs": [
    {
     "data": {
      "text/plain": [
       "[1, 2, 3, 4, 5, 6, 7, 8]"
      ]
     },
     "execution_count": 61,
     "metadata": {},
     "output_type": "execute_result"
    }
   ],
   "source": [
    "l = [1,2,3,4]\n",
    "l1 = [5,6,7,8]\n",
    "l + l1"
   ]
  },
  {
   "cell_type": "code",
   "execution_count": 62,
   "id": "ac0f2e6b",
   "metadata": {},
   "outputs": [
    {
     "data": {
      "text/plain": [
       "[1, 2, 3, 4, 1, 2, 3, 4]"
      ]
     },
     "execution_count": 62,
     "metadata": {},
     "output_type": "execute_result"
    }
   ],
   "source": [
    "l*2"
   ]
  },
  {
   "cell_type": "code",
   "execution_count": 63,
   "id": "754955e3",
   "metadata": {},
   "outputs": [
    {
     "name": "stdout",
     "output_type": "stream",
     "text": [
      "5\n",
      "6\n",
      "7\n",
      "8\n"
     ]
    }
   ],
   "source": [
    "for i in l1:\n",
    "    print(i)"
   ]
  },
  {
   "cell_type": "code",
   "execution_count": 65,
   "id": "0180fa86",
   "metadata": {},
   "outputs": [
    {
     "data": {
      "text/plain": [
       "False"
      ]
     },
     "execution_count": 65,
     "metadata": {},
     "output_type": "execute_result"
    }
   ],
   "source": [
    "l  = [1,2,3,[4,5]]\n",
    "4 in l #4 is not in list it is in nested list"
   ]
  },
  {
   "cell_type": "code",
   "execution_count": 66,
   "id": "1664e256",
   "metadata": {},
   "outputs": [
    {
     "data": {
      "text/plain": [
       "4"
      ]
     },
     "execution_count": 66,
     "metadata": {},
     "output_type": "execute_result"
    }
   ],
   "source": [
    "len(l)"
   ]
  },
  {
   "cell_type": "code",
   "execution_count": 68,
   "id": "67a74c77",
   "metadata": {},
   "outputs": [
    {
     "data": {
      "text/plain": [
       "5"
      ]
     },
     "execution_count": 68,
     "metadata": {},
     "output_type": "execute_result"
    }
   ],
   "source": [
    "l = [1,2,3,4,5]\n",
    "max(l)"
   ]
  },
  {
   "cell_type": "code",
   "execution_count": 69,
   "id": "5071b3c2",
   "metadata": {},
   "outputs": [
    {
     "data": {
      "text/plain": [
       "1"
      ]
     },
     "execution_count": 69,
     "metadata": {},
     "output_type": "execute_result"
    }
   ],
   "source": [
    "min(l)"
   ]
  },
  {
   "cell_type": "code",
   "execution_count": 71,
   "id": "d355d7c4",
   "metadata": {},
   "outputs": [
    {
     "data": {
      "text/plain": [
       "[5, 4, 3, 2, 1]"
      ]
     },
     "execution_count": 71,
     "metadata": {},
     "output_type": "execute_result"
    }
   ],
   "source": [
    "sorted(l,reverse = True)"
   ]
  },
  {
   "cell_type": "code",
   "execution_count": 79,
   "id": "f983ff44",
   "metadata": {},
   "outputs": [
    {
     "name": "stdout",
     "output_type": "stream",
     "text": [
      "['what', 'is', 'your', 'name']\n",
      "What\n",
      "Is\n",
      "Your\n",
      "Name\n",
      "['What', 'Is', 'Your', 'Name']\n"
     ]
    },
    {
     "data": {
      "text/plain": [
       "'What Is Your Name'"
      ]
     },
     "execution_count": 79,
     "metadata": {},
     "output_type": "execute_result"
    }
   ],
   "source": [
    "#task\n",
    "l = []\n",
    "a = \"what is your name \"\n",
    "print(a.split())\n",
    "for i in a.split():\n",
    "    print (i.capitalize())\n",
    "    l.append(i.capitalize())\n",
    "print(l)\n",
    "\" \".join(l)"
   ]
  },
  {
   "cell_type": "code",
   "execution_count": null,
   "id": "1a5515af",
   "metadata": {},
   "outputs": [],
   "source": []
  }
 ],
 "metadata": {
  "kernelspec": {
   "display_name": "Python 3 (ipykernel)",
   "language": "python",
   "name": "python3"
  },
  "language_info": {
   "codemirror_mode": {
    "name": "ipython",
    "version": 3
   },
   "file_extension": ".py",
   "mimetype": "text/x-python",
   "name": "python",
   "nbconvert_exporter": "python",
   "pygments_lexer": "ipython3",
   "version": "3.9.7"
  }
 },
 "nbformat": 4,
 "nbformat_minor": 5
}

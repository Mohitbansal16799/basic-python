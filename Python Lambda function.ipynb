{
 "cells": [
  {
   "cell_type": "code",
   "execution_count": 1,
   "id": "c848ebf5",
   "metadata": {},
   "outputs": [],
   "source": [
    "x = lambda x:x**3"
   ]
  },
  {
   "cell_type": "code",
   "execution_count": 2,
   "id": "489ec5ff",
   "metadata": {},
   "outputs": [
    {
     "data": {
      "text/plain": [
       "27"
      ]
     },
     "execution_count": 2,
     "metadata": {},
     "output_type": "execute_result"
    }
   ],
   "source": [
    "x(3)"
   ]
  },
  {
   "cell_type": "code",
   "execution_count": 5,
   "id": "19c222dd",
   "metadata": {},
   "outputs": [],
   "source": [
    "x = lambda a,b:(a+b)*3"
   ]
  },
  {
   "cell_type": "code",
   "execution_count": 6,
   "id": "607512b3",
   "metadata": {},
   "outputs": [
    {
     "data": {
      "text/plain": [
       "15"
      ]
     },
     "execution_count": 6,
     "metadata": {},
     "output_type": "execute_result"
    }
   ],
   "source": [
    "x(2,3)"
   ]
  },
  {
   "cell_type": "code",
   "execution_count": 7,
   "id": "364f2767",
   "metadata": {},
   "outputs": [],
   "source": [
    "#difference between lambda and function\n",
    "#1 Lambda has no return value\n",
    "#2 one line code \n",
    "#3 Not use for code reuseability\n",
    "#4 No name"
   ]
  },
  {
   "cell_type": "code",
   "execution_count": 15,
   "id": "00da1b87",
   "metadata": {},
   "outputs": [],
   "source": [
    "a = lambda x:\"even\" if x%2==0 else \"odd\""
   ]
  },
  {
   "cell_type": "code",
   "execution_count": 16,
   "id": "1df9755c",
   "metadata": {},
   "outputs": [
    {
     "data": {
      "text/plain": [
       "'even'"
      ]
     },
     "execution_count": 16,
     "metadata": {},
     "output_type": "execute_result"
    }
   ],
   "source": [
    "a(4)"
   ]
  },
  {
   "cell_type": "code",
   "execution_count": 17,
   "id": "a940c858",
   "metadata": {},
   "outputs": [
    {
     "data": {
      "text/plain": [
       "'odd'"
      ]
     },
     "execution_count": 17,
     "metadata": {},
     "output_type": "execute_result"
    }
   ],
   "source": [
    "a(5)"
   ]
  },
  {
   "cell_type": "code",
   "execution_count": 21,
   "id": "23ab68f0",
   "metadata": {},
   "outputs": [
    {
     "name": "stdout",
     "output_type": "stream",
     "text": [
      "176\n",
      "129\n",
      "144\n"
     ]
    }
   ],
   "source": [
    "def return_sum(func,l):\n",
    "    result = 0\n",
    "    for i in l:\n",
    "        if func(i):\n",
    "            result = result + i\n",
    "    return result\n",
    "l = [11,14,21,23,56,78,45,29,28]\n",
    "\n",
    "x = lambda x:x%2==0\n",
    "y = lambda x:x%2!=0\n",
    "z = lambda x:x%3==0\n",
    "\n",
    "print(return_sum(x,l))\n",
    "print(return_sum(y,l))\n",
    "print(return_sum(z,l))\n",
    "    \n",
    "        "
   ]
  },
  {
   "cell_type": "code",
   "execution_count": 27,
   "id": "6eabc2c0",
   "metadata": {},
   "outputs": [
    {
     "data": {
      "text/plain": [
       "[2, 4, 6, 8, 10, 12, 14, 16]"
      ]
     },
     "execution_count": 27,
     "metadata": {},
     "output_type": "execute_result"
    }
   ],
   "source": [
    "#MAP\n",
    "l = [1,2,3,4,5,6,7,8]\n",
    "list(map(lambda x : x*2,l))"
   ]
  },
  {
   "cell_type": "code",
   "execution_count": 28,
   "id": "93ff0872",
   "metadata": {},
   "outputs": [],
   "source": [
    "m = [{\"name\" : \"mohit\"},{\"name\" : \"rahul\"},{\"name\" : \"shivam\"}]"
   ]
  },
  {
   "cell_type": "code",
   "execution_count": 29,
   "id": "6f78f5db",
   "metadata": {},
   "outputs": [
    {
     "data": {
      "text/plain": [
       "['mohit', 'rahul', 'shivam']"
      ]
     },
     "execution_count": 29,
     "metadata": {},
     "output_type": "execute_result"
    }
   ],
   "source": [
    "list(map(lambda student : student[\"name\"],m))"
   ]
  },
  {
   "cell_type": "code",
   "execution_count": 34,
   "id": "029014fd",
   "metadata": {},
   "outputs": [
    {
     "data": {
      "text/plain": [
       "[5, 6, 7, 8]"
      ]
     },
     "execution_count": 34,
     "metadata": {},
     "output_type": "execute_result"
    }
   ],
   "source": [
    "#FIlter\n",
    "list(filter(lambda x : x>4,l))"
   ]
  },
  {
   "cell_type": "code",
   "execution_count": 35,
   "id": "95e114fa",
   "metadata": {},
   "outputs": [
    {
     "data": {
      "text/plain": [
       "[1, 2, 3, 4, 5, 6, 7, 8]"
      ]
     },
     "execution_count": 35,
     "metadata": {},
     "output_type": "execute_result"
    }
   ],
   "source": [
    "l"
   ]
  },
  {
   "cell_type": "code",
   "execution_count": 36,
   "id": "05d07a69",
   "metadata": {},
   "outputs": [],
   "source": [
    "import functools"
   ]
  },
  {
   "cell_type": "code",
   "execution_count": 39,
   "id": "0d304f6c",
   "metadata": {},
   "outputs": [
    {
     "data": {
      "text/plain": [
       "36"
      ]
     },
     "execution_count": 39,
     "metadata": {},
     "output_type": "execute_result"
    }
   ],
   "source": [
    "functools.reduce(lambda x,y : x+y,l)"
   ]
  },
  {
   "cell_type": "code",
   "execution_count": null,
   "id": "c221db80",
   "metadata": {},
   "outputs": [],
   "source": []
  }
 ],
 "metadata": {
  "kernelspec": {
   "display_name": "Python 3 (ipykernel)",
   "language": "python",
   "name": "python3"
  },
  "language_info": {
   "codemirror_mode": {
    "name": "ipython",
    "version": 3
   },
   "file_extension": ".py",
   "mimetype": "text/x-python",
   "name": "python",
   "nbconvert_exporter": "python",
   "pygments_lexer": "ipython3",
   "version": "3.9.7"
  }
 },
 "nbformat": 4,
 "nbformat_minor": 5
}

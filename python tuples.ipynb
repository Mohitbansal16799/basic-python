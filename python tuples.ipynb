{
 "cells": [
  {
   "cell_type": "markdown",
   "id": "6c9befca",
   "metadata": {},
   "source": [
    "# How to create tupple"
   ]
  },
  {
   "cell_type": "code",
   "execution_count": 1,
   "id": "485f41d0",
   "metadata": {},
   "outputs": [],
   "source": [
    "t = ()"
   ]
  },
  {
   "cell_type": "code",
   "execution_count": 2,
   "id": "4e56b387",
   "metadata": {},
   "outputs": [],
   "source": [
    "t1 = (1,2,3,4,5,6) #homogenous tupple"
   ]
  },
  {
   "cell_type": "code",
   "execution_count": 3,
   "id": "87e59c7a",
   "metadata": {},
   "outputs": [
    {
     "data": {
      "text/plain": [
       "(1, 2, 3, 4, 5, 6)"
      ]
     },
     "execution_count": 3,
     "metadata": {},
     "output_type": "execute_result"
    }
   ],
   "source": [
    "t1"
   ]
  },
  {
   "cell_type": "code",
   "execution_count": 4,
   "id": "b918f19a",
   "metadata": {},
   "outputs": [],
   "source": [
    "t2 = (\"mohit\",1,2,3.4,True) #hetrogenous tupple"
   ]
  },
  {
   "cell_type": "code",
   "execution_count": 5,
   "id": "d655befa",
   "metadata": {},
   "outputs": [
    {
     "data": {
      "text/plain": [
       "('mohit', 1, 2, 3.4, True)"
      ]
     },
     "execution_count": 5,
     "metadata": {},
     "output_type": "execute_result"
    }
   ],
   "source": [
    "t2"
   ]
  },
  {
   "cell_type": "code",
   "execution_count": 6,
   "id": "eb91fc1b",
   "metadata": {},
   "outputs": [],
   "source": [
    "#sinlge item in braket can't be tupple\n",
    "t3 = (4)"
   ]
  },
  {
   "cell_type": "code",
   "execution_count": 7,
   "id": "71a7b91a",
   "metadata": {},
   "outputs": [
    {
     "data": {
      "text/plain": [
       "int"
      ]
     },
     "execution_count": 7,
     "metadata": {},
     "output_type": "execute_result"
    }
   ],
   "source": [
    "type(t3)"
   ]
  },
  {
   "cell_type": "code",
   "execution_count": 12,
   "id": "7010bd7e",
   "metadata": {},
   "outputs": [],
   "source": [
    "t4 = (\"hello\")"
   ]
  },
  {
   "cell_type": "code",
   "execution_count": 13,
   "id": "88abd025",
   "metadata": {},
   "outputs": [
    {
     "data": {
      "text/plain": [
       "str"
      ]
     },
     "execution_count": 13,
     "metadata": {},
     "output_type": "execute_result"
    }
   ],
   "source": [
    "type(t4)"
   ]
  },
  {
   "cell_type": "code",
   "execution_count": 14,
   "id": "5f512a30",
   "metadata": {},
   "outputs": [],
   "source": [
    "#to make it tupple we have to put comma at the end"
   ]
  },
  {
   "cell_type": "code",
   "execution_count": 16,
   "id": "1d166e02",
   "metadata": {},
   "outputs": [],
   "source": [
    "t5 = (\"helllo\",)"
   ]
  },
  {
   "cell_type": "code",
   "execution_count": 17,
   "id": "820f958f",
   "metadata": {},
   "outputs": [
    {
     "data": {
      "text/plain": [
       "tuple"
      ]
     },
     "execution_count": 17,
     "metadata": {},
     "output_type": "execute_result"
    }
   ],
   "source": [
    "type(t5)"
   ]
  },
  {
   "cell_type": "code",
   "execution_count": 18,
   "id": "7da055d8",
   "metadata": {},
   "outputs": [],
   "source": [
    "t6 = tuple(\"delhi\")"
   ]
  },
  {
   "cell_type": "code",
   "execution_count": 19,
   "id": "212f2ef7",
   "metadata": {},
   "outputs": [
    {
     "data": {
      "text/plain": [
       "('d', 'e', 'l', 'h', 'i')"
      ]
     },
     "execution_count": 19,
     "metadata": {},
     "output_type": "execute_result"
    }
   ],
   "source": [
    "t6"
   ]
  },
  {
   "cell_type": "code",
   "execution_count": 22,
   "id": "42ec13db",
   "metadata": {},
   "outputs": [],
   "source": [
    "t7 =tuple([1,2,3,4,5])"
   ]
  },
  {
   "cell_type": "code",
   "execution_count": 23,
   "id": "08b06d63",
   "metadata": {},
   "outputs": [
    {
     "data": {
      "text/plain": [
       "(1, 2, 3, 4, 5)"
      ]
     },
     "execution_count": 23,
     "metadata": {},
     "output_type": "execute_result"
    }
   ],
   "source": [
    "t7"
   ]
  },
  {
   "cell_type": "code",
   "execution_count": 24,
   "id": "c3fe4679",
   "metadata": {},
   "outputs": [
    {
     "data": {
      "text/plain": [
       "tuple"
      ]
     },
     "execution_count": 24,
     "metadata": {},
     "output_type": "execute_result"
    }
   ],
   "source": [
    "type(t7)"
   ]
  },
  {
   "cell_type": "markdown",
   "id": "467aa7a6",
   "metadata": {},
   "source": [
    "# Edit\n"
   ]
  },
  {
   "cell_type": "code",
   "execution_count": 25,
   "id": "04cd43f6",
   "metadata": {},
   "outputs": [],
   "source": [
    "#Edit is not possible in tuple because it is umnutable"
   ]
  },
  {
   "cell_type": "markdown",
   "id": "02c2ad2d",
   "metadata": {},
   "source": [
    "# Delete"
   ]
  },
  {
   "cell_type": "code",
   "execution_count": 26,
   "id": "30965d4e",
   "metadata": {},
   "outputs": [],
   "source": [
    "del t7"
   ]
  },
  {
   "cell_type": "code",
   "execution_count": 27,
   "id": "f6eb0175",
   "metadata": {},
   "outputs": [
    {
     "ename": "NameError",
     "evalue": "name 't7' is not defined",
     "output_type": "error",
     "traceback": [
      "\u001b[1;31m---------------------------------------------------------------------------\u001b[0m",
      "\u001b[1;31mNameError\u001b[0m                                 Traceback (most recent call last)",
      "\u001b[1;32m~\\AppData\\Local\\Temp/ipykernel_13192/564099369.py\u001b[0m in \u001b[0;36m<module>\u001b[1;34m\u001b[0m\n\u001b[1;32m----> 1\u001b[1;33m \u001b[0mt7\u001b[0m\u001b[1;33m\u001b[0m\u001b[1;33m\u001b[0m\u001b[0m\n\u001b[0m",
      "\u001b[1;31mNameError\u001b[0m: name 't7' is not defined"
     ]
    }
   ],
   "source": [
    "t7"
   ]
  },
  {
   "cell_type": "code",
   "execution_count": 28,
   "id": "ddcecb37",
   "metadata": {},
   "outputs": [],
   "source": [
    "#in delete we can delete the whole tuple but we can't delete single charater in tuble"
   ]
  },
  {
   "cell_type": "markdown",
   "id": "8a04575e",
   "metadata": {},
   "source": [
    "# operations"
   ]
  },
  {
   "cell_type": "code",
   "execution_count": 29,
   "id": "1183804d",
   "metadata": {},
   "outputs": [
    {
     "data": {
      "text/plain": [
       "('d', 'e', 'l', 'h', 'i', 'helllo')"
      ]
     },
     "execution_count": 29,
     "metadata": {},
     "output_type": "execute_result"
    }
   ],
   "source": [
    "t6 +t5"
   ]
  },
  {
   "cell_type": "code",
   "execution_count": 30,
   "id": "f0def6de",
   "metadata": {},
   "outputs": [
    {
     "name": "stdout",
     "output_type": "stream",
     "text": [
      "d\n",
      "e\n",
      "l\n",
      "h\n",
      "i\n"
     ]
    }
   ],
   "source": [
    "for i in t6:\n",
    "    print(i)"
   ]
  },
  {
   "cell_type": "code",
   "execution_count": 31,
   "id": "4fb85137",
   "metadata": {},
   "outputs": [
    {
     "data": {
      "text/plain": [
       "('d', 'e', 'l', 'h', 'i', 'd', 'e', 'l', 'h', 'i')"
      ]
     },
     "execution_count": 31,
     "metadata": {},
     "output_type": "execute_result"
    }
   ],
   "source": [
    "t6 *2"
   ]
  },
  {
   "cell_type": "code",
   "execution_count": 32,
   "id": "b8b890b6",
   "metadata": {},
   "outputs": [
    {
     "data": {
      "text/plain": [
       "True"
      ]
     },
     "execution_count": 32,
     "metadata": {},
     "output_type": "execute_result"
    }
   ],
   "source": [
    "\"d\" in t6"
   ]
  },
  {
   "cell_type": "markdown",
   "id": "14ee75b8",
   "metadata": {},
   "source": [
    "# Functions"
   ]
  },
  {
   "cell_type": "code",
   "execution_count": 33,
   "id": "dd72fc56",
   "metadata": {},
   "outputs": [
    {
     "data": {
      "text/plain": [
       "1"
      ]
     },
     "execution_count": 33,
     "metadata": {},
     "output_type": "execute_result"
    }
   ],
   "source": [
    "len(t5)"
   ]
  },
  {
   "cell_type": "code",
   "execution_count": 34,
   "id": "fbe36d15",
   "metadata": {},
   "outputs": [
    {
     "data": {
      "text/plain": [
       "'helllo'"
      ]
     },
     "execution_count": 34,
     "metadata": {},
     "output_type": "execute_result"
    }
   ],
   "source": [
    "max(t5)"
   ]
  },
  {
   "cell_type": "code",
   "execution_count": 35,
   "id": "dd2b5e83",
   "metadata": {},
   "outputs": [
    {
     "data": {
      "text/plain": [
       "'helllo'"
      ]
     },
     "execution_count": 35,
     "metadata": {},
     "output_type": "execute_result"
    }
   ],
   "source": [
    "min(t5)"
   ]
  },
  {
   "cell_type": "code",
   "execution_count": 36,
   "id": "4fea7c06",
   "metadata": {},
   "outputs": [
    {
     "data": {
      "text/plain": [
       "['helllo']"
      ]
     },
     "execution_count": 36,
     "metadata": {},
     "output_type": "execute_result"
    }
   ],
   "source": [
    "sorted(t5)"
   ]
  },
  {
   "cell_type": "code",
   "execution_count": 37,
   "id": "411ca7d3",
   "metadata": {},
   "outputs": [],
   "source": [
    "#we can say that tuples are only read only data type and list are both read and write data type."
   ]
  },
  {
   "cell_type": "code",
   "execution_count": null,
   "id": "b8a37760",
   "metadata": {},
   "outputs": [],
   "source": []
  }
 ],
 "metadata": {
  "kernelspec": {
   "display_name": "Python 3 (ipykernel)",
   "language": "python",
   "name": "python3"
  },
  "language_info": {
   "codemirror_mode": {
    "name": "ipython",
    "version": 3
   },
   "file_extension": ".py",
   "mimetype": "text/x-python",
   "name": "python",
   "nbconvert_exporter": "python",
   "pygments_lexer": "ipython3",
   "version": "3.9.7"
  }
 },
 "nbformat": 4,
 "nbformat_minor": 5
}

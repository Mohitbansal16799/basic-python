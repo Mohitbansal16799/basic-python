{
 "cells": [
  {
   "cell_type": "code",
   "execution_count": 1,
   "id": "d7701a70",
   "metadata": {},
   "outputs": [
    {
     "name": "stdout",
     "output_type": "stream",
     "text": [
      "20\n"
     ]
    }
   ],
   "source": [
    "#multiplication through loop\n",
    "def mul(a,b):\n",
    "    result = 0\n",
    "    for i in range(b):\n",
    "        result = result + a\n",
    "    print(result)\n",
    "mul(4,5)        "
   ]
  },
  {
   "cell_type": "code",
   "execution_count": 2,
   "id": "9a30c939",
   "metadata": {},
   "outputs": [
    {
     "name": "stdout",
     "output_type": "stream",
     "text": [
      "42\n"
     ]
    }
   ],
   "source": [
    "mul(6,7)"
   ]
  },
  {
   "cell_type": "code",
   "execution_count": 6,
   "id": "023acebd",
   "metadata": {},
   "outputs": [
    {
     "name": "stdout",
     "output_type": "stream",
     "text": [
      "9\n"
     ]
    }
   ],
   "source": [
    "def mu(a,b):\n",
    "    if b == 1:\n",
    "        return a\n",
    "    else:\n",
    "        return a + mu(a,b-1)\n",
    "    \n",
    "    \n",
    "print(mu(3,3))"
   ]
  },
  {
   "cell_type": "code",
   "execution_count": 7,
   "id": "ebec447a",
   "metadata": {},
   "outputs": [],
   "source": [
    "def fat(a):\n",
    "    if a == 1:\n",
    "        return a\n",
    "    else:\n",
    "        return a*fat(a-1)"
   ]
  },
  {
   "cell_type": "code",
   "execution_count": 9,
   "id": "4df07de4",
   "metadata": {},
   "outputs": [
    {
     "data": {
      "text/plain": [
       "120"
      ]
     },
     "execution_count": 9,
     "metadata": {},
     "output_type": "execute_result"
    }
   ],
   "source": [
    "fat(5)"
   ]
  },
  {
   "cell_type": "code",
   "execution_count": 21,
   "id": "77cc87a7",
   "metadata": {},
   "outputs": [],
   "source": [
    "def pad(text):\n",
    "    if len(text)== 1:\n",
    "        print(\"palindrome\")\n",
    "    else:\n",
    "        if text[0] == text[-1]:\n",
    "            pad(text[1:-1])\n",
    "        else:\n",
    "            print(\"not a palindrome\")\n",
    "        "
   ]
  },
  {
   "cell_type": "code",
   "execution_count": 22,
   "id": "ccfc37fa",
   "metadata": {},
   "outputs": [
    {
     "name": "stdout",
     "output_type": "stream",
     "text": [
      "palindrome\n"
     ]
    }
   ],
   "source": [
    "pad(\"oyo\")"
   ]
  },
  {
   "cell_type": "code",
   "execution_count": null,
   "id": "f76da821",
   "metadata": {},
   "outputs": [],
   "source": []
  }
 ],
 "metadata": {
  "kernelspec": {
   "display_name": "Python 3 (ipykernel)",
   "language": "python",
   "name": "python3"
  },
  "language_info": {
   "codemirror_mode": {
    "name": "ipython",
    "version": 3
   },
   "file_extension": ".py",
   "mimetype": "text/x-python",
   "name": "python",
   "nbconvert_exporter": "python",
   "pygments_lexer": "ipython3",
   "version": "3.9.7"
  }
 },
 "nbformat": 4,
 "nbformat_minor": 5
}
